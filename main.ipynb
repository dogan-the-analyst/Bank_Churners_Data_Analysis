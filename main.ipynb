{
 "cells": [
  {
   "cell_type": "code",
   "execution_count": 1,
   "metadata": {},
   "outputs": [],
   "source": [
    "# Imports\n",
    "import pandas as pd\n",
    "import numpy as np\n",
    "import matplotlib.pyplot as plt\n",
    "import seaborn as sns\n",
    "import plotly.graph_objs as go\n",
    "from plotly.offline import iplot\n",
    "sns.set(style=\"darkgrid\")\n",
    "pd.options.display.max_columns = 999\n",
    "import warnings\n",
    "warnings.simplefilter(action='ignore', category=FutureWarning)"
   ]
  },
  {
   "cell_type": "code",
   "execution_count": 2,
   "metadata": {},
   "outputs": [],
   "source": [
    "# DataFrame\n",
    "df = pd.read_csv(\"BankChurners_v2.csv\")"
   ]
  },
  {
   "cell_type": "code",
   "execution_count": null,
   "metadata": {},
   "outputs": [],
   "source": [
    "df.shape"
   ]
  },
  {
   "cell_type": "code",
   "execution_count": null,
   "metadata": {},
   "outputs": [],
   "source": [
    "df.head(5)"
   ]
  },
  {
   "cell_type": "code",
   "execution_count": null,
   "metadata": {},
   "outputs": [],
   "source": [
    "# Cleaning data\n",
    "df.shape"
   ]
  },
  {
   "cell_type": "code",
   "execution_count": null,
   "metadata": {},
   "outputs": [],
   "source": [
    "df[\"CLIENTNUM\"].nunique()"
   ]
  },
  {
   "cell_type": "code",
   "execution_count": 7,
   "metadata": {},
   "outputs": [],
   "source": [
    "# Duplicates\n",
    "df.drop_duplicates(inplace=True)"
   ]
  },
  {
   "cell_type": "code",
   "execution_count": null,
   "metadata": {},
   "outputs": [],
   "source": [
    "df.shape"
   ]
  },
  {
   "cell_type": "code",
   "execution_count": null,
   "metadata": {},
   "outputs": [],
   "source": [
    "df.columns"
   ]
  },
  {
   "cell_type": "code",
   "execution_count": 10,
   "metadata": {},
   "outputs": [],
   "source": [
    "# Subsetting \n",
    "df = df[['CLIENTNUM', 'Attrition_Flag', 'Customer_Age', 'Gender',\n",
    "       'Dependent_count', 'Education_Level', 'Marital_Status',\n",
    "       'Income_Category', 'Card_Category', 'Months_on_book',\n",
    "       'Total_Relationship_Count', 'Months_Inactive_12_mon',\n",
    "       'Contacts_Count_12_mon', 'Credit_Limit', 'Total_Revolving_Bal',\n",
    "       'Avg_Open_To_Buy', 'Total_Amt_Chng_Q4_Q1', 'Total_Trans_Amt',\n",
    "       'Total_Trans_Ct', 'Total_Ct_Chng_Q4_Q1', 'Avg_Utilization_Ratio']]"
   ]
  },
  {
   "cell_type": "code",
   "execution_count": null,
   "metadata": {},
   "outputs": [],
   "source": [
    "df.dtypes"
   ]
  },
  {
   "cell_type": "code",
   "execution_count": null,
   "metadata": {},
   "outputs": [],
   "source": [
    "# Missing values\n",
    "df.isnull().sum()"
   ]
  },
  {
   "cell_type": "code",
   "execution_count": null,
   "metadata": {},
   "outputs": [],
   "source": [
    "# We can fill the missing values by using following code:\n",
    "df[\"Education_Level\"] = df[\"Education_Level\"].fillna(\"Unknown\")\n",
    "# Verify\n",
    "df[df[\"Education_Level\"]==\"Unknown\"]"
   ]
  },
  {
   "cell_type": "code",
   "execution_count": null,
   "metadata": {},
   "outputs": [],
   "source": [
    "# Binning\n",
    "print(f\"Minimum age: {df[\"Customer_Age\"].min()}\")\n",
    "print(f\"Maximum age: {df[\"Customer_Age\"].max()}\")"
   ]
  },
  {
   "cell_type": "code",
   "execution_count": 15,
   "metadata": {},
   "outputs": [],
   "source": [
    "bins = [25, 30, 40, 50, 60, 70, 80]\n",
    "labels = [\"20s\", \"30s\", \"40s\", \"50s\", \"60s\", \"70s\"]\n",
    "df[\"Customer_Age_bins\"] = pd.cut(df[\"Customer_Age\"], bins=bins, labels=labels, include_lowest=True, right=False)"
   ]
  },
  {
   "cell_type": "code",
   "execution_count": null,
   "metadata": {},
   "outputs": [],
   "source": [
    "df[df[\"Customer_Age\"]==70]"
   ]
  },
  {
   "cell_type": "code",
   "execution_count": null,
   "metadata": {},
   "outputs": [],
   "source": [
    "# EDA\n",
    "# Sanity checks\n",
    "df[\"Attrition_Flag\"].value_counts()"
   ]
  },
  {
   "cell_type": "code",
   "execution_count": null,
   "metadata": {},
   "outputs": [],
   "source": [
    "print(round(df[\"Attrition_Flag\"].value_counts()[\"Attrited Customer\"] / df.shape[0] * 100, 2), \"% of our customers have churned.\")"
   ]
  },
  {
   "cell_type": "code",
   "execution_count": null,
   "metadata": {},
   "outputs": [],
   "source": [
    "# Summary statistics\n",
    "df.describe()"
   ]
  },
  {
   "cell_type": "code",
   "execution_count": null,
   "metadata": {},
   "outputs": [],
   "source": [
    "print(f\"The average Credit_Limit is ${round(np.mean(df[\"Credit_Limit\"]), 2)} and the median is ${round(np.median(df[\"Credit_Limit\"]), 2)}\")"
   ]
  },
  {
   "cell_type": "code",
   "execution_count": null,
   "metadata": {},
   "outputs": [],
   "source": [
    "# Distributions\n",
    "# Histogram for \"Customer_Age\"\n",
    "plt.hist(df[\"Customer_Age\"]);"
   ]
  },
  {
   "cell_type": "code",
   "execution_count": null,
   "metadata": {},
   "outputs": [],
   "source": [
    "# Histogram for \"Months_on_book\"\n",
    "plt.hist(df[\"Months_on_book\"]);"
   ]
  },
  {
   "cell_type": "code",
   "execution_count": null,
   "metadata": {},
   "outputs": [],
   "source": [
    "plt.hist(df[\"Credit_Limit\"]);"
   ]
  },
  {
   "cell_type": "code",
   "execution_count": null,
   "metadata": {},
   "outputs": [],
   "source": [
    "# To get have better understanding of the histogram for Credit_Limit\n",
    "plt.figure(figsize=(10, 7))\n",
    "plt.hist(df[\"Credit_Limit\"], bins=30)\n",
    "\n",
    "plt.vlines(df[\"Credit_Limit\"].mean(), 0, 2500, colors=\"black\")\n",
    "plt.vlines(df[\"Credit_Limit\"].median(), 0, 2500, colors=\"black\")\n",
    "plt.text(df[\"Credit_Limit\"].mean()-1000, 2500+50, \"Mean\")\n",
    "plt.text(df[\"Credit_Limit\"].median()-1000, 2500+50, \"Median\")\n",
    "plt.ylim(0, 2800)\n",
    "plt.title(\"Histogram of Customer Credit Limit\")\n",
    "plt.ylabel(\"Frequency\")\n",
    "plt.xlabel(\"Credit Limit\");"
   ]
  },
  {
   "cell_type": "code",
   "execution_count": null,
   "metadata": {},
   "outputs": [],
   "source": [
    "plt.hist(df[\"Total_Trans_Ct\"]);"
   ]
  },
  {
   "cell_type": "code",
   "execution_count": null,
   "metadata": {},
   "outputs": [],
   "source": [
    "plt.hist(df[\"Total_Trans_Ct\"], bins=50);"
   ]
  },
  {
   "cell_type": "code",
   "execution_count": 27,
   "metadata": {},
   "outputs": [],
   "source": [
    "# Data Transformations: Normalization and Log\n",
    "def normalize(column):\n",
    "    upper = column.max()\n",
    "    lower = column.min()\n",
    "    y = (column - lower) / (upper - lower)\n",
    "    return y"
   ]
  },
  {
   "cell_type": "code",
   "execution_count": 28,
   "metadata": {},
   "outputs": [],
   "source": [
    "df[\"Credit_Limit_Normalized\"] = normalize(df[\"Credit_Limit\"])\n",
    "df[\"Credit_Limit_Log_Transformed\"] = np.log(df[\"Credit_Limit\"])"
   ]
  },
  {
   "cell_type": "code",
   "execution_count": null,
   "metadata": {},
   "outputs": [],
   "source": [
    "fig, axes = plt.subplots(2, 2, figsize=(15,10))\n",
    "fig.suptitle(\"Before and After Transformation\")\n",
    "\n",
    "# Boxplot in each subplot\n",
    "sns.histplot(df, x=\"Credit_Limit\", ax=axes[0,0])\n",
    "sns.histplot(df, x=\"Credit_Limit_Normalized\", ax=axes[0,1])\n",
    "sns.histplot(df, x=\"Credit_Limit\", ax=axes[1,0])\n",
    "sns.histplot(df, x=\"Credit_Limit_Log_Transformed\", ax=axes[1,1]);"
   ]
  },
  {
   "cell_type": "code",
   "execution_count": null,
   "metadata": {},
   "outputs": [],
   "source": [
    "# Other distributions plots\n",
    "sns.boxplot(x=df[\"Gender\"], y=df[\"Total_Trans_Ct\"]);"
   ]
  },
  {
   "cell_type": "code",
   "execution_count": 31,
   "metadata": {},
   "outputs": [],
   "source": [
    "pyramid = df.groupby([\"Gender\", \"Customer_Age_bins\"], observed=False)[\"CLIENTNUM\"].nunique().reset_index()"
   ]
  },
  {
   "cell_type": "code",
   "execution_count": null,
   "metadata": {},
   "outputs": [],
   "source": [
    "pyramid"
   ]
  },
  {
   "cell_type": "code",
   "execution_count": null,
   "metadata": {},
   "outputs": [],
   "source": [
    "women_bins = np.array(-1 * pyramid[pyramid[\"Gender\"] == \"F\"][\"CLIENTNUM\"])\n",
    "men_bins = np.array(pyramid[pyramid[\"Gender\"] == \"M\"][\"CLIENTNUM\"])\n",
    "\n",
    "y = list(range(0, 100, 10))\n",
    "\n",
    "layout = go.Layout(yaxis=go.layout.YAxis(title='Age'),\n",
    "                   xaxis=go.layout.XAxis(\n",
    "                       range=[-1200, 1200],\n",
    "                       tickvals=[-1000, -700, -300, 0, 300, 700, 1000],\n",
    "                       ticktext=[1000, 700, 300, 0, 300, 700, 1000],\n",
    "                       title='Number'),\n",
    "                   barmode='overlay',\n",
    "                   bargap=0.1)\n",
    "\n",
    "data = [go.Bar(y=y,\n",
    "               x=men_bins,\n",
    "               orientation='h',\n",
    "               name='Men',\n",
    "               hoverinfo='x',\n",
    "               marker=dict(color='powderblue')\n",
    "               ),\n",
    "        go.Bar(y=y,\n",
    "               x=women_bins,\n",
    "               orientation='h',\n",
    "               name='Women',\n",
    "               text=-1 * women_bins.astype('int'),\n",
    "               hoverinfo='text',\n",
    "               marker=dict(color='seagreen')\n",
    "               )]\n",
    "\n",
    "iplot(dict(data=data, layout=layout))"
   ]
  },
  {
   "cell_type": "code",
   "execution_count": null,
   "metadata": {},
   "outputs": [],
   "source": [
    "# Comparing Categories\n",
    "sns.barplot(x=\"Customer_Age_bins\", y=\"Credit_Limit\", hue=\"Gender\", data=df, estimator=np.mean);"
   ]
  },
  {
   "cell_type": "code",
   "execution_count": null,
   "metadata": {},
   "outputs": [],
   "source": [
    "sns.barplot(x=\"Customer_Age_bins\", y=\"Credit_Limit\", hue=\"Gender\", data=df, estimator=np.median);"
   ]
  },
  {
   "cell_type": "code",
   "execution_count": null,
   "metadata": {},
   "outputs": [],
   "source": [
    "barplot = df.groupby([\"Customer_Age_bins\", \"Gender\"])[\"Credit_Limit\"].mean().reset_index()\n",
    "barplot"
   ]
  },
  {
   "cell_type": "code",
   "execution_count": null,
   "metadata": {},
   "outputs": [],
   "source": [
    "sns.barplot(x=\"Customer_Age_bins\", y=\"Credit_Limit\", hue=\"Gender\", data=barplot, estimator=np.mean);"
   ]
  },
  {
   "cell_type": "code",
   "execution_count": null,
   "metadata": {},
   "outputs": [],
   "source": [
    "sns.barplot(x=\"Credit_Limit\", y=\"Customer_Age_bins\", hue=\"Gender\", data=barplot, estimator=np.mean, orient=\"h\");"
   ]
  },
  {
   "cell_type": "code",
   "execution_count": null,
   "metadata": {},
   "outputs": [],
   "source": [
    "lollipop = df.groupby([\"Customer_Age_bins\"])[\"Credit_Limit\"].mean().reset_index().sort_values(\"Credit_Limit\")\n",
    "lollipop"
   ]
  },
  {
   "cell_type": "code",
   "execution_count": null,
   "metadata": {},
   "outputs": [],
   "source": [
    "plt.stem(lollipop[\"Customer_Age_bins\"], lollipop[\"Credit_Limit\"], linefmt=\"--\");"
   ]
  },
  {
   "cell_type": "code",
   "execution_count": null,
   "metadata": {},
   "outputs": [],
   "source": [
    "# Data Tables\n",
    "df.groupby([\"Attrition_Flag\"]).agg({\n",
    "    \"CLIENTNUM\":\"nunique\",\n",
    "    \"Customer_Age\":\"mean\",\n",
    "    \"Dependent_count\":\"mean\",\n",
    "    \"Months_on_book\":\"mean\",\n",
    "    \"Total_Relationship_Count\":\"mean\",\n",
    "    \"Months_Inactive_12_mon\":\"mean\",\n",
    "    \"Contacts_Count_12_mon\":\"mean\",\n",
    "    \"Credit_Limit\":\"mean\",\n",
    "    \"Total_Revolving_Bal\":\"mean\",\n",
    "    \"Avg_Open_To_Buy\":\"mean\",\n",
    "    \"Total_Amt_Chng_Q4_Q1\":\"mean\",\n",
    "    \"Total_Trans_Amt\":\"mean\",\n",
    "    \"Total_Trans_Ct\":\"mean\",\n",
    "    \"Total_Ct_Chng_Q4_Q1\":\"mean\",\n",
    "    \"Avg_Utilization_Ratio\":\"mean\"\n",
    "})"
   ]
  },
  {
   "cell_type": "code",
   "execution_count": null,
   "metadata": {},
   "outputs": [],
   "source": [
    "# Transpose\n",
    "pivot_table = df.groupby([\"Attrition_Flag\"]).agg({\n",
    "    \"CLIENTNUM\":\"nunique\",\n",
    "    \"Customer_Age\":\"mean\",\n",
    "    \"Dependent_count\":\"mean\",\n",
    "    \"Months_on_book\":\"mean\",\n",
    "    \"Total_Relationship_Count\":\"mean\",\n",
    "    \"Months_Inactive_12_mon\":\"mean\",\n",
    "    \"Contacts_Count_12_mon\":\"mean\",\n",
    "    \"Credit_Limit\":\"mean\",\n",
    "    \"Total_Revolving_Bal\":\"mean\",\n",
    "    \"Avg_Open_To_Buy\":\"mean\",\n",
    "    \"Total_Amt_Chng_Q4_Q1\":\"mean\",\n",
    "    \"Total_Trans_Amt\":\"mean\",\n",
    "    \"Total_Trans_Ct\":\"mean\",\n",
    "    \"Total_Ct_Chng_Q4_Q1\":\"mean\",\n",
    "    \"Avg_Utilization_Ratio\":\"mean\"\n",
    "}).T\n",
    "\n",
    "pivot_table"
   ]
  },
  {
   "cell_type": "code",
   "execution_count": null,
   "metadata": {},
   "outputs": [],
   "source": [
    "pivot_table[\"Diff\"] = pivot_table[\"Attrited Customer\"] / pivot_table[\"Existing Customer\"] - 1\n",
    "pivot_table.sort_values(\"Diff\")"
   ]
  },
  {
   "cell_type": "code",
   "execution_count": null,
   "metadata": {},
   "outputs": [],
   "source": [
    "# Relationships\n",
    "# Pairplot or Pairgrid\n",
    "numeric_data = df._get_numeric_data()\n",
    "numeric_data.columns"
   ]
  },
  {
   "cell_type": "code",
   "execution_count": 45,
   "metadata": {},
   "outputs": [],
   "source": [
    "numeric_data = df[['CLIENTNUM', 'Customer_Age', 'Dependent_count', 'Months_on_book', 'Total_Relationship_Count', 'Months_Inactive_12_mon',\n",
    "       'Contacts_Count_12_mon', 'Credit_Limit', 'Total_Revolving_Bal',\n",
    "       'Avg_Open_To_Buy', 'Total_Amt_Chng_Q4_Q1', 'Total_Trans_Amt',\n",
    "       'Total_Trans_Ct', 'Total_Ct_Chng_Q4_Q1', 'Avg_Utilization_Ratio',\n",
    "       'Credit_Limit_Normalized', 'Credit_Limit_Log_Transformed']]"
   ]
  },
  {
   "cell_type": "code",
   "execution_count": null,
   "metadata": {},
   "outputs": [],
   "source": [
    "g = sns.PairGrid(numeric_data, diag_sharey=False, corner=True)\n",
    "g.map_lower(sns.scatterplot)\n",
    "g.map_diag(sns.histplot)"
   ]
  },
  {
   "cell_type": "code",
   "execution_count": null,
   "metadata": {},
   "outputs": [],
   "source": [
    "plt.figure(figsize=(7,5))\n",
    "sns.scatterplot(x=\"Total_Trans_Amt\", y=\"Total_Trans_Ct\", data=df)"
   ]
  },
  {
   "cell_type": "code",
   "execution_count": null,
   "metadata": {},
   "outputs": [],
   "source": [
    "plt.figure(figsize=(7,5))\n",
    "sns.scatterplot(x=\"Total_Trans_Amt\", y=\"Total_Trans_Ct\", hue=\"Attrition_Flag\", data=df)"
   ]
  },
  {
   "cell_type": "code",
   "execution_count": 49,
   "metadata": {},
   "outputs": [],
   "source": [
    "# Findings from the chart:\n",
    "# 1. Customer Groups:\n",
    "#    - \"Existing Customers\" tend to make more transactions (Total_Trans_Ct) and spend more money (Total_Trans_Amt).\n",
    "#    - \"Attrited Customers\" (those who left) make fewer transactions and spend less.\n",
    "# 2. Spending and Transactions Relationship:\n",
    "#    - For both groups, spending more money generally means making more transactions.\n",
    "#    - However, \"Existing Customers\" show a wider range of spending and transaction amounts.\n",
    "# 3. Differences Between Groups:\n",
    "#    - \"Attrited Customers\" mostly fall into the range of 20-80 transactions and spend less than 10,000.\n",
    "#    - \"Existing Customers\" are more spread out and often make more transactions and spend more.\n",
    "# 4. Business Insights:\n",
    "#    - The customers who left (\"Attrited Customers\") could be targeted with campaigns to bring them back.\n",
    "#    - Special offers or loyalty programs could be used to retain \"Existing Customers,\" especially those who spend a lot.\n"
   ]
  },
  {
   "cell_type": "code",
   "execution_count": 50,
   "metadata": {},
   "outputs": [],
   "source": [
    "bins = [0, 11000, 900000]\n",
    "labels = [\"Group 1\", \"Group 2\"]\n",
    "df[\"Total_Trans_Amt_bin\"] = pd.cut(df[\"Total_Trans_Amt\"], bins=bins, labels=labels, include_lowest=True, right=False)"
   ]
  },
  {
   "cell_type": "code",
   "execution_count": null,
   "metadata": {},
   "outputs": [],
   "source": [
    "df.groupby([\"Total_Trans_Amt_bin\", \"Attrition_Flag\"]).agg({\n",
    "    \"CLIENTNUM\":\"nunique\",\n",
    "    \"Customer_Age\":\"mean\",\n",
    "    \"Dependent_count\":\"mean\",\n",
    "    \"Months_on_book\":\"mean\",\n",
    "    \"Total_Relationship_Count\":\"mean\",\n",
    "    \"Months_Inactive_12_mon\":\"mean\",\n",
    "    \"Contacts_Count_12_mon\":\"mean\",\n",
    "    \"Credit_Limit\":\"mean\",\n",
    "    \"Total_Revolving_Bal\":\"mean\",\n",
    "    \"Avg_Open_To_Buy\":\"mean\",\n",
    "    \"Total_Amt_Chng_Q4_Q1\":\"mean\",\n",
    "    \"Total_Trans_Amt\":\"mean\",\n",
    "    \"Total_Trans_Ct\":\"mean\",\n",
    "    \"Total_Ct_Chng_Q4_Q1\":\"mean\",\n",
    "    \"Avg_Utilization_Ratio\":\"mean\"\n",
    "}).T"
   ]
  },
  {
   "cell_type": "code",
   "execution_count": 52,
   "metadata": {},
   "outputs": [],
   "source": [
    "# Total_Revolving_Bal (still a good indicator)\n",
    "# Avg_Utilization_Ratio (not good anymore, since attrited and existing have similar values)\n",
    "# Total_Trans_Ct (still a good indicator)\n",
    "# Total_Trans_AMT (not good anymore, since att. and exi. have similar values)"
   ]
  },
  {
   "cell_type": "code",
   "execution_count": null,
   "metadata": {},
   "outputs": [],
   "source": [
    "# KDE plots\n",
    "g = sns.FacetGrid(df, row=\"Attrition_Flag\", aspect=5, height=3)\n",
    "g.map_dataframe(sns.kdeplot, x=\"Total_Ct_Chng_Q4_Q1\")\n",
    "\n",
    "plt.xlim(0, 2)"
   ]
  },
  {
   "cell_type": "code",
   "execution_count": 54,
   "metadata": {},
   "outputs": [],
   "source": [
    "# Changing the background color and removing the border\n",
    "sns.set_theme(style=\"white\")\n",
    "palette = sns.color_palette(\"Set2\", 12)"
   ]
  },
  {
   "cell_type": "code",
   "execution_count": null,
   "metadata": {},
   "outputs": [],
   "source": [
    "plt.figure(figsize=(7,5))\n",
    "sns.scatterplot(x=\"Total_Trans_Amt\", y=\"Total_Trans_Ct\", hue=\"Attrition_Flag\", data=df)\n",
    "\n",
    "sns.despine(bottom=True, left=True)\n",
    "plt.ylim(0, 150)\n",
    "\n",
    "plt.xlabel(\"Total Transaction Amount\")\n",
    "plt.ylabel(\"Total Transaction Count\")\n",
    "plt.title(\"Transaction Amounts and Counts for Customers\", loc=\"left\", size=14)\n",
    "\n",
    "plt.vlines(11000, 0, 150)\n",
    "plt.text(12500, 40, \"No Churned Customers \\nabove $11K of Spend\")"
   ]
  },
  {
   "cell_type": "code",
   "execution_count": null,
   "metadata": {},
   "outputs": [],
   "source": [
    "sns.set_theme(style=\"white\", rc={\"axes.facecolor\": (0, 0, 0, 0), \"axes.linewidth\":2})\n",
    "palette = sns.color_palette(\"Set2\", 12)\n",
    "g = sns.FacetGrid(df, palette=palette, row=\"Attrition_Flag\", hue=\"Attrition_Flag\", aspect=5, height=3)\n",
    "g.map_dataframe(sns.kdeplot, x=\"Total_Ct_Chng_Q4_Q1\", fill=True, alpha=1)\n",
    "g.map_dataframe(sns.kdeplot, x=\"Total_Ct_Chng_Q4_Q1\", color=\"black\")\n",
    "\n",
    "def label(x, color, label):\n",
    "    ax = plt.gca()\n",
    "    ax.text(0, .2, label, color=\"black\", fontsize=13, ha=\"left\", va=\"center\", transform=ax.transAxes)\n",
    "\n",
    "g.map(label, \"Attrition_Flag\")\n",
    "g.fig.subplots_adjust(hspace=-.5)\n",
    "g.set_titles(\"\")\n",
    "g.set(yticks=[], xlabel=\"Total Count Change Q4 to Q1\")\n",
    "g.despine(left=True)\n",
    "plt.suptitle(\"Customer Q4 to Q1 Transaction Drop\", y=0.98)\n",
    "\n",
    "plt.xlim(0,2);"
   ]
  },
  {
   "cell_type": "code",
   "execution_count": null,
   "metadata": {},
   "outputs": [],
   "source": []
  }
 ],
 "metadata": {
  "kernelspec": {
   "display_name": "Python 3",
   "language": "python",
   "name": "python3"
  },
  "language_info": {
   "codemirror_mode": {
    "name": "ipython",
    "version": 3
   },
   "file_extension": ".py",
   "mimetype": "text/x-python",
   "name": "python",
   "nbconvert_exporter": "python",
   "pygments_lexer": "ipython3",
   "version": "3.12.4"
  }
 },
 "nbformat": 4,
 "nbformat_minor": 2
}
